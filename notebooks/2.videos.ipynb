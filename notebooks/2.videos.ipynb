{
 "cells": [
  {
   "cell_type": "code",
   "execution_count": 1,
   "metadata": {},
   "outputs": [],
   "source": [
    "import pandas as pd\n",
    "from matplotlib import pyplot as plt\n",
    "import sys, os\n",
    "sys.path.insert(0, os.path.abspath('../scripts/'))\n",
    "import footyviz"
   ]
  },
  {
   "cell_type": "code",
   "execution_count": 4,
   "metadata": {},
   "outputs": [],
   "source": [
    "data = pd.read_csv('../datasets/positional_data/liverpool_2019.csv', index_col=('play', 'frame'))"
   ]
  },
  {
   "cell_type": "code",
   "execution_count": 5,
   "metadata": {},
   "outputs": [
    {
     "data": {
      "text/html": [
       "<div>\n",
       "<style scoped>\n",
       "    .dataframe tbody tr th:only-of-type {\n",
       "        vertical-align: middle;\n",
       "    }\n",
       "\n",
       "    .dataframe tbody tr th {\n",
       "        vertical-align: top;\n",
       "    }\n",
       "\n",
       "    .dataframe thead th {\n",
       "        text-align: right;\n",
       "    }\n",
       "</style>\n",
       "<table border=\"1\" class=\"dataframe\">\n",
       "  <thead>\n",
       "    <tr style=\"text-align: right;\">\n",
       "      <th></th>\n",
       "      <th></th>\n",
       "      <th>Unnamed: 0</th>\n",
       "      <th>bgcolor</th>\n",
       "      <th>dx</th>\n",
       "      <th>dy</th>\n",
       "      <th>edgecolor</th>\n",
       "      <th>player</th>\n",
       "      <th>player_num</th>\n",
       "      <th>team</th>\n",
       "      <th>x</th>\n",
       "      <th>y</th>\n",
       "      <th>z</th>\n",
       "    </tr>\n",
       "    <tr>\n",
       "      <th>play</th>\n",
       "      <th>frame</th>\n",
       "      <th></th>\n",
       "      <th></th>\n",
       "      <th></th>\n",
       "      <th></th>\n",
       "      <th></th>\n",
       "      <th></th>\n",
       "      <th></th>\n",
       "      <th></th>\n",
       "      <th></th>\n",
       "      <th></th>\n",
       "      <th></th>\n",
       "    </tr>\n",
       "  </thead>\n",
       "  <tbody>\n",
       "    <tr>\n",
       "      <th rowspan=\"5\" valign=\"top\">Liverpool [3] - 0 Bournemouth</th>\n",
       "      <th>0</th>\n",
       "      <td>0</td>\n",
       "      <td>NaN</td>\n",
       "      <td>0.000000</td>\n",
       "      <td>0.000000</td>\n",
       "      <td>NaN</td>\n",
       "      <td>0</td>\n",
       "      <td>NaN</td>\n",
       "      <td>NaN</td>\n",
       "      <td>46.394558</td>\n",
       "      <td>11.134454</td>\n",
       "      <td>0.0</td>\n",
       "    </tr>\n",
       "    <tr>\n",
       "      <th>1</th>\n",
       "      <td>1</td>\n",
       "      <td>NaN</td>\n",
       "      <td>0.185745</td>\n",
       "      <td>1.217580</td>\n",
       "      <td>NaN</td>\n",
       "      <td>0</td>\n",
       "      <td>NaN</td>\n",
       "      <td>NaN</td>\n",
       "      <td>46.580302</td>\n",
       "      <td>12.352034</td>\n",
       "      <td>0.0</td>\n",
       "    </tr>\n",
       "    <tr>\n",
       "      <th>2</th>\n",
       "      <td>2</td>\n",
       "      <td>NaN</td>\n",
       "      <td>0.178659</td>\n",
       "      <td>1.171133</td>\n",
       "      <td>NaN</td>\n",
       "      <td>0</td>\n",
       "      <td>NaN</td>\n",
       "      <td>NaN</td>\n",
       "      <td>46.758961</td>\n",
       "      <td>13.523166</td>\n",
       "      <td>0.0</td>\n",
       "    </tr>\n",
       "    <tr>\n",
       "      <th>3</th>\n",
       "      <td>3</td>\n",
       "      <td>NaN</td>\n",
       "      <td>0.171573</td>\n",
       "      <td>1.124685</td>\n",
       "      <td>NaN</td>\n",
       "      <td>0</td>\n",
       "      <td>NaN</td>\n",
       "      <td>NaN</td>\n",
       "      <td>46.930535</td>\n",
       "      <td>14.647852</td>\n",
       "      <td>0.0</td>\n",
       "    </tr>\n",
       "    <tr>\n",
       "      <th>4</th>\n",
       "      <td>4</td>\n",
       "      <td>NaN</td>\n",
       "      <td>0.164488</td>\n",
       "      <td>1.078238</td>\n",
       "      <td>NaN</td>\n",
       "      <td>0</td>\n",
       "      <td>NaN</td>\n",
       "      <td>NaN</td>\n",
       "      <td>47.095022</td>\n",
       "      <td>15.726090</td>\n",
       "      <td>0.0</td>\n",
       "    </tr>\n",
       "  </tbody>\n",
       "</table>\n",
       "</div>"
      ],
      "text/plain": [
       "                                     Unnamed: 0 bgcolor        dx        dy  \\\n",
       "play                          frame                                           \n",
       "Liverpool [3] - 0 Bournemouth 0               0     NaN  0.000000  0.000000   \n",
       "                              1               1     NaN  0.185745  1.217580   \n",
       "                              2               2     NaN  0.178659  1.171133   \n",
       "                              3               3     NaN  0.171573  1.124685   \n",
       "                              4               4     NaN  0.164488  1.078238   \n",
       "\n",
       "                                    edgecolor  player  player_num team  \\\n",
       "play                          frame                                      \n",
       "Liverpool [3] - 0 Bournemouth 0           NaN       0         NaN  NaN   \n",
       "                              1           NaN       0         NaN  NaN   \n",
       "                              2           NaN       0         NaN  NaN   \n",
       "                              3           NaN       0         NaN  NaN   \n",
       "                              4           NaN       0         NaN  NaN   \n",
       "\n",
       "                                             x          y    z  \n",
       "play                          frame                             \n",
       "Liverpool [3] - 0 Bournemouth 0      46.394558  11.134454  0.0  \n",
       "                              1      46.580302  12.352034  0.0  \n",
       "                              2      46.758961  13.523166  0.0  \n",
       "                              3      46.930535  14.647852  0.0  \n",
       "                              4      47.095022  15.726090  0.0  "
      ]
     },
     "execution_count": 5,
     "metadata": {},
     "output_type": "execute_result"
    }
   ],
   "source": [
    "data.head()"
   ]
  },
  {
   "cell_type": "code",
   "execution_count": 59,
   "metadata": {},
   "outputs": [
    {
     "name": "stdout",
     "output_type": "stream",
     "text": [
      "<class 'pandas.core.frame.DataFrame'>\n",
      "MultiIndex: 74936 entries, (Liverpool [3] - 0 Bournemouth, 0) to (Leicester 0 - [3] Liverpool, 124)\n",
      "Data columns (total 11 columns):\n",
      "Unnamed: 0    74936 non-null int64\n",
      "bgcolor       71387 non-null object\n",
      "dx            74936 non-null float64\n",
      "dy            74936 non-null float64\n",
      "edgecolor     71387 non-null object\n",
      "player        74936 non-null int64\n",
      "player_num    17719 non-null float64\n",
      "team          71387 non-null object\n",
      "x             74936 non-null float64\n",
      "y             74936 non-null float64\n",
      "z             74936 non-null float64\n",
      "dtypes: float64(6), int64(2), object(3)\n",
      "memory usage: 6.5+ MB\n"
     ]
    }
   ],
   "source": [
    "data.info()"
   ]
  },
  {
   "cell_type": "code",
   "execution_count": 60,
   "metadata": {},
   "outputs": [
    {
     "data": {
      "text/plain": [
       "Index(['Liverpool [3] - 0 Bournemouth', 'Bayern 0 - [1] Liverpool',\n",
       "       'Fulham 0 - [1] Liverpool', 'Southampton 1 - [2] Liverpool',\n",
       "       'Liverpool [2] - 0 Porto', 'Porto 0 - [2] Liverpool',\n",
       "       'Liverpool [4] - 0 Barcelona', 'Liverpool [1] - 0 Wolves',\n",
       "       'Liverpool [3] - 0 Norwich', 'Liverpool [2] - 1 Chelsea',\n",
       "       'Liverpool [2] - 1 Newcastle', 'Liverpool [2] - 0 Salzburg',\n",
       "       'Genk 0 - [3] Liverpool', 'Liverpool [2] - 0 Man City',\n",
       "       'Liverpool [1] - 0 Everton', 'Liverpool [2] - 0 Everton',\n",
       "       'Bournemouth 0 - 3 Liverpool', 'Liverpool [1] - 0 Watford',\n",
       "       'Leicester 0 - [3] Liverpool'],\n",
       "      dtype='object', name='play')"
      ]
     },
     "execution_count": 60,
     "metadata": {},
     "output_type": "execute_result"
    }
   ],
   "source": [
    "#list of goals included in the dataset\n",
    "data.index.get_level_values('play').unique()"
   ]
  },
  {
   "cell_type": "code",
   "execution_count": 61,
   "metadata": {},
   "outputs": [
    {
     "data": {
      "text/html": [
       "<div>\n",
       "<style scoped>\n",
       "    .dataframe tbody tr th:only-of-type {\n",
       "        vertical-align: middle;\n",
       "    }\n",
       "\n",
       "    .dataframe tbody tr th {\n",
       "        vertical-align: top;\n",
       "    }\n",
       "\n",
       "    .dataframe thead th {\n",
       "        text-align: right;\n",
       "    }\n",
       "</style>\n",
       "<table border=\"1\" class=\"dataframe\">\n",
       "  <thead>\n",
       "    <tr style=\"text-align: right;\">\n",
       "      <th></th>\n",
       "      <th>Unnamed: 0</th>\n",
       "      <th>bgcolor</th>\n",
       "      <th>dx</th>\n",
       "      <th>dy</th>\n",
       "      <th>edgecolor</th>\n",
       "      <th>player</th>\n",
       "      <th>player_num</th>\n",
       "      <th>team</th>\n",
       "      <th>x</th>\n",
       "      <th>y</th>\n",
       "      <th>z</th>\n",
       "    </tr>\n",
       "    <tr>\n",
       "      <th>frame</th>\n",
       "      <th></th>\n",
       "      <th></th>\n",
       "      <th></th>\n",
       "      <th></th>\n",
       "      <th></th>\n",
       "      <th></th>\n",
       "      <th></th>\n",
       "      <th></th>\n",
       "      <th></th>\n",
       "      <th></th>\n",
       "      <th></th>\n",
       "    </tr>\n",
       "  </thead>\n",
       "  <tbody>\n",
       "    <tr>\n",
       "      <th>150</th>\n",
       "      <td>2940</td>\n",
       "      <td>white</td>\n",
       "      <td>0.254492</td>\n",
       "      <td>0.134682</td>\n",
       "      <td>black</td>\n",
       "      <td>5518</td>\n",
       "      <td>NaN</td>\n",
       "      <td>defense</td>\n",
       "      <td>82.349414</td>\n",
       "      <td>39.628083</td>\n",
       "      <td>0.0</td>\n",
       "    </tr>\n",
       "    <tr>\n",
       "      <th>151</th>\n",
       "      <td>2941</td>\n",
       "      <td>white</td>\n",
       "      <td>0.000000</td>\n",
       "      <td>0.000000</td>\n",
       "      <td>black</td>\n",
       "      <td>5518</td>\n",
       "      <td>NaN</td>\n",
       "      <td>defense</td>\n",
       "      <td>82.349414</td>\n",
       "      <td>39.628083</td>\n",
       "      <td>0.0</td>\n",
       "    </tr>\n",
       "    <tr>\n",
       "      <th>152</th>\n",
       "      <td>2942</td>\n",
       "      <td>white</td>\n",
       "      <td>0.000000</td>\n",
       "      <td>0.000000</td>\n",
       "      <td>black</td>\n",
       "      <td>5518</td>\n",
       "      <td>NaN</td>\n",
       "      <td>defense</td>\n",
       "      <td>82.349414</td>\n",
       "      <td>39.628083</td>\n",
       "      <td>0.0</td>\n",
       "    </tr>\n",
       "    <tr>\n",
       "      <th>153</th>\n",
       "      <td>2943</td>\n",
       "      <td>white</td>\n",
       "      <td>0.000000</td>\n",
       "      <td>0.000000</td>\n",
       "      <td>black</td>\n",
       "      <td>5518</td>\n",
       "      <td>NaN</td>\n",
       "      <td>defense</td>\n",
       "      <td>82.349414</td>\n",
       "      <td>39.628083</td>\n",
       "      <td>0.0</td>\n",
       "    </tr>\n",
       "    <tr>\n",
       "      <th>154</th>\n",
       "      <td>2944</td>\n",
       "      <td>white</td>\n",
       "      <td>0.000000</td>\n",
       "      <td>0.000000</td>\n",
       "      <td>black</td>\n",
       "      <td>5518</td>\n",
       "      <td>NaN</td>\n",
       "      <td>defense</td>\n",
       "      <td>82.349414</td>\n",
       "      <td>39.628083</td>\n",
       "      <td>0.0</td>\n",
       "    </tr>\n",
       "  </tbody>\n",
       "</table>\n",
       "</div>"
      ],
      "text/plain": [
       "       Unnamed: 0 bgcolor        dx        dy edgecolor  player  player_num  \\\n",
       "frame                                                                         \n",
       "150          2940   white  0.254492  0.134682     black    5518         NaN   \n",
       "151          2941   white  0.000000  0.000000     black    5518         NaN   \n",
       "152          2942   white  0.000000  0.000000     black    5518         NaN   \n",
       "153          2943   white  0.000000  0.000000     black    5518         NaN   \n",
       "154          2944   white  0.000000  0.000000     black    5518         NaN   \n",
       "\n",
       "          team          x          y    z  \n",
       "frame                                      \n",
       "150    defense  82.349414  39.628083  0.0  \n",
       "151    defense  82.349414  39.628083  0.0  \n",
       "152    defense  82.349414  39.628083  0.0  \n",
       "153    defense  82.349414  39.628083  0.0  \n",
       "154    defense  82.349414  39.628083  0.0  "
      ]
     },
     "execution_count": 61,
     "metadata": {},
     "output_type": "execute_result"
    }
   ],
   "source": [
    "play = 'Liverpool [3] - 0 Bournemouth'\n",
    "df = data.loc[play]\n",
    "df.tail()"
   ]
  },
  {
   "cell_type": "markdown",
   "metadata": {},
   "source": [
    "## Making videos of every goal"
   ]
  },
  {
   "cell_type": "code",
   "execution_count": 6,
   "metadata": {},
   "outputs": [],
   "source": [
    "from moviepy import editor as mpy\n",
    "from moviepy.video.io.bindings import mplfig_to_npimage\n",
    "\n",
    "def draw_frame_x(df, t, fps, voronoi=False):\n",
    "    fig,ax,dfFrame = footyviz.draw_frame(df, t=t, fps=fps)\n",
    "    if voronoi:\n",
    "        fig, ax, dfFrame = footyviz.add_voronoi_to_fig(fig, ax, dfFrame)\n",
    "    image = mplfig_to_npimage(fig)\n",
    "    plt.close()\n",
    "    return image    \n",
    "\n",
    "def make_animation(df, fps=20, voronoi=False):\n",
    "    #calculated variables\n",
    "    length=(df.index.max()+20)/fps\n",
    "    clip = mpy.VideoClip(lambda x: draw_frame_x(df, t=x, fps=fps, voronoi=voronoi), duration=length-1).set_fps(fps)\n",
    "    return clip"
   ]
  },
  {
   "cell_type": "code",
   "execution_count": 7,
   "metadata": {},
   "outputs": [
    {
     "data": {
      "text/plain": [
       "Index(['Liverpool [3] - 0 Bournemouth', 'Bayern 0 - [1] Liverpool',\n",
       "       'Fulham 0 - [1] Liverpool', 'Southampton 1 - [2] Liverpool',\n",
       "       'Liverpool [2] - 0 Porto', 'Porto 0 - [2] Liverpool',\n",
       "       'Liverpool [4] - 0 Barcelona', 'Liverpool [1] - 0 Wolves',\n",
       "       'Liverpool [3] - 0 Norwich', 'Liverpool [2] - 1 Chelsea',\n",
       "       'Liverpool [2] - 1 Newcastle', 'Liverpool [2] - 0 Salzburg',\n",
       "       'Genk 0 - [3] Liverpool', 'Liverpool [2] - 0 Man City',\n",
       "       'Liverpool [1] - 0 Everton', 'Liverpool [2] - 0 Everton',\n",
       "       'Bournemouth 0 - 3 Liverpool', 'Liverpool [1] - 0 Watford',\n",
       "       'Leicester 0 - [3] Liverpool'],\n",
       "      dtype='object', name='play')"
      ]
     },
     "execution_count": 7,
     "metadata": {},
     "output_type": "execute_result"
    }
   ],
   "source": [
    "data.index.get_level_values('play').unique()"
   ]
  },
  {
   "cell_type": "code",
   "execution_count": 8,
   "metadata": {},
   "outputs": [],
   "source": [
    "play = data.index.get_level_values('play').unique()[0]\n",
    "df1 = data.loc[play]"
   ]
  },
  {
   "cell_type": "code",
   "execution_count": 10,
   "metadata": {},
   "outputs": [
    {
     "name": "stdout",
     "output_type": "stream",
     "text": [
      "Moviepy - Building video __temp__.mp4.\n",
      "Moviepy - Writing video __temp__.mp4\n",
      "\n"
     ]
    },
    {
     "name": "stderr",
     "output_type": "stream",
     "text": [
      "                                                                                                                       \r"
     ]
    },
    {
     "name": "stdout",
     "output_type": "stream",
     "text": [
      "Moviepy - Done !\n",
      "Moviepy - video ready __temp__.mp4\n",
      "Moviepy - Building video ../videos/Goal1.mp4.\n",
      "Moviepy - Writing video ../videos/Goal1.mp4\n",
      "\n"
     ]
    },
    {
     "name": "stderr",
     "output_type": "stream",
     "text": [
      "                                                                                                                       \r"
     ]
    },
    {
     "name": "stdout",
     "output_type": "stream",
     "text": [
      "Moviepy - Done !\n",
      "Moviepy - video ready ../videos/Goal1.mp4\n"
     ]
    }
   ],
   "source": [
    "clip = make_animation(df1)\n",
    "clip.ipython_display()\n",
    "clip.write_videofile(\"../videos/Goal1.mp4\")"
   ]
  }
 ],
 "metadata": {
  "kernelspec": {
   "display_name": "Python 3",
   "language": "python",
   "name": "python3"
  },
  "language_info": {
   "codemirror_mode": {
    "name": "ipython",
    "version": 3
   },
   "file_extension": ".py",
   "mimetype": "text/x-python",
   "name": "python",
   "nbconvert_exporter": "python",
   "pygments_lexer": "ipython3",
   "version": "3.7.1"
  }
 },
 "nbformat": 4,
 "nbformat_minor": 4
}
